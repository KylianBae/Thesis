{
 "cells": [
  {
   "cell_type": "markdown",
   "metadata": {},
   "source": [
    "Masterthesis"
   ]
  },
  {
   "cell_type": "code",
   "execution_count": 55,
   "metadata": {},
   "outputs": [],
   "source": [
    "# load modules\n",
    "import random\n",
    "import matplotlib.pyplot as plt"
   ]
  },
  {
   "cell_type": "markdown",
   "metadata": {},
   "source": [
    "Set up an initial population of individuals with a predetermined number of chromosomes (ploidy_number) and loci per chromosomes (loci_number)"
   ]
  },
  {
   "cell_type": "code",
   "execution_count": 56,
   "metadata": {},
   "outputs": [],
   "source": [
    "def initialize_population(initial_size:int,ploidy_number:int,loci_number:int):\n",
    "    \"\"\"_summary_\n",
    "    Initialize the starting population with a given number of individuals of the population (initial_size), with its ploidy level(ploidy_number)\n",
    "    and number of loci per chromosome (loci_number)\n",
    "    Args:\n",
    "        initial_size (int): Size of the initial population of individuals to start with\n",
    "        ploidy_number (int): Number of chromosome sets per individual\n",
    "        loci_number (int): Number of loci per chromosome\n",
    "\n",
    "    Returns:\n",
    "        List of lists which represents the population with its individuals based on the given parameters\n",
    "    \"\"\"\n",
    "    population = []\n",
    "    for i in range(0, initial_size):\n",
    "        individual = []\n",
    "        for i in range(0, ploidy_number):\n",
    "            chromosome_set = []\n",
    "            for i in range(0, loci_number):\n",
    "                chromosome_set.append(random.choice([0,1]))\n",
    "            individual.append(chromosome_set)\n",
    "        population.append(individual)\n",
    "    return population"
   ]
  },
  {
   "cell_type": "markdown",
   "metadata": {},
   "source": [
    "Process of meiosis.\n",
    "\n",
    "In this function meiosis has been programmed. During meiosis 2 individuals will be sampled from a population of individuals which contains diploids, triploids and tetraploids. For each of these individuals a certain amount of chromosomes will be selected to be present in the gametes which will create the following generation. \n",
    "\n",
    "If the sampled individual is diploid either 1 of the chromosomes will be selected with equal probability which will lead to reduced gametes or 2 chromosomes will be selected (unreduced gametes) according a probability 1-v for reduced gametes and v for unreduced gametes.\n",
    "\n",
    "In the case that the individual is triploid we would have to take into account a fertility factor 𝜑 which is computed to be 0.30 (Schemske). This is done by generating a random number from an uniform distribution between 0 and 1, in the case that this generated number is less then  𝜑 the triploid can succesfully form gametes otherwise the triploid will not form gametes. When the triploid is able to form gametes there is 25% chance that only one chromosome is selected which would result in a haploid gamete, 25% that 2 chromsomes are selected which results in diploid gametes and 50% chance that 3 chromsomes are selected which results in triploid gametes \n",
    "\n",
    "In the case that the selected individual is tetraploid there is a 1-v probability that diploid gametes will be produced and no gametes will be produced with probability v. This is implemented such that the tetraploid individuals will have not fitness advantage for tetraploids over diploids\n",
    "\n",
    "Other rules were set in place, which state that when we would generate offspring with more then 4 chromosomes 2 new individuals will be chosen for a new round of meiosis and that wehn 1 or 2 individuals would not produce gametes mating fails and new individuals should be randomly chosen for the next round of meiosis\n"
   ]
  },
  {
   "cell_type": "code",
   "execution_count": 57,
   "metadata": {},
   "outputs": [],
   "source": [
    "def meiosis(arg,v,f):\n",
    "    gametes = []\n",
    "    if len(arg) == 2:  \n",
    "        chromosomes = random.choices([1,2],weights=(1-v,v),k=1) # choice for reduced or unreduced gametes\n",
    "        if chromosomes[0] == 1:\n",
    "            gametes.append(random.sample(arg,1)[0])\n",
    "        else:\n",
    "            gametes.append(arg[0])\n",
    "            gametes.append(arg[1])\n",
    "    elif len(arg) == 3 and random.uniform(0,1) < f:\n",
    "        chromosomes = random.choices([1,2,3],weights=(0.25,0.25,0.50),k=1) # 1 represents haploid, 2 diploid and 3 triploid (optional)\n",
    "        poss_gametes = random.sample(arg,chromosomes[0])\n",
    "        if chromosomes[0] == 1:\n",
    "            gametes.append(poss_gametes[0])\n",
    "        elif chromosomes[0] == 2:\n",
    "            gametes.append(poss_gametes[0])\n",
    "            gametes.append(poss_gametes[1])\n",
    "        elif chromosomes[0] == 3:\n",
    "            gametes.append(poss_gametes[0])\n",
    "            gametes.append(poss_gametes[1])\n",
    "            gametes.append(poss_gametes[2])\n",
    "    elif len(arg) == 4:\n",
    "        chromosomes = random.choices([1,2],weights=(1-v,v),k=1) # choice for diploid gametes or no gametes\n",
    "        if chromosomes[0] == 1:\n",
    "            poss_gametes = random.sample(arg,2)\n",
    "            gametes.append(poss_gametes[0])\n",
    "            gametes.append(poss_gametes[1])   \n",
    "    return gametes"
   ]
  },
  {
   "cell_type": "markdown",
   "metadata": {},
   "source": [
    "Cytoptype dynamics model that starts with an initial population of individuals that will study how the frequency of diploids, triploids and tetraploids will change after a certain number of generations. Per generation 2 by 2 individuals will be chosen to undergo meisosis and form a future generation.This future generation will be used to update our initial population until the number of offspring reaches the original population size. "
   ]
  },
  {
   "cell_type": "code",
   "execution_count": 236,
   "metadata": {},
   "outputs": [],
   "source": [
    "def cytotype_dynamics(initial_size:int,ploidy_number:int,loci_number:int,max_generations:int,v:float,f:float,reps:int):\n",
    "    diploids = []\n",
    "    triploids = []\n",
    "    tetraploids = []\n",
    "    for i in range(0,reps):\n",
    "        initial_population = initialize_population(initial_size,loci_number,ploidy_number) # na each rep opnieuw initialpop opstarten ==> dus een nieuwe onafhankelijke trials\n",
    "        t = 1\n",
    "        n = len(initial_population)\n",
    "        freq_diploid, freq_triploid, freq_tetraploid = [1], [0], [0]\n",
    "        while t < max_generations:\n",
    "            new_pop = initial_population\n",
    "            offsprings = []\n",
    "            while len(offsprings) < n:\n",
    "                pair = random.sample(new_pop,2)\n",
    "                first = meiosis(pair[0],v,f)\n",
    "                second = meiosis(pair[1],v,f)\n",
    "                if first != [] and second != [] and len(first + second) < 5:\n",
    "                    offspring = first + second\n",
    "                    new_pop.append(offspring)\n",
    "                    offsprings.append(offspring)\n",
    "            freq_diploid.append(sum(1 for individual in new_pop if len(individual) == 2)/len(new_pop)) # count how many diploids in each generation\n",
    "            freq_triploid.append(sum(1 for individual in new_pop if len(individual) == 3)/len(new_pop)) # count how many triploids in each generation\n",
    "            freq_tetraploid.append(sum(1 for individual in new_pop if len(individual) == 4)/len(new_pop)) # count how many tetraploids in each generation\n",
    "            t += 1\n",
    "            new_pop = offsprings\n",
    "        diploids.append(freq_diploid)\n",
    "        triploids.append(freq_triploid)\n",
    "        tetraploids.append(freq_tetraploid)\n",
    "    mean_diploids = get_mean_of_freq_overreps(diploids,reps)\n",
    "    mean_triploids = get_mean_of_freq_overreps(triploids,reps)\n",
    "    mean_tetraploids = get_mean_of_freq_overreps(tetraploids,reps)\n",
    "    return max_generations,mean_diploids,mean_triploids,mean_tetraploids,diploids,triploids,tetraploids\n",
    "\n",
    "def get_mean_of_freq_overreps(data,reps):\n",
    "    mean_values = [0] * len(data[0])\n",
    "    for rep in data:\n",
    "        for i, value in enumerate(rep):\n",
    "            mean_values[i] += value\n",
    "    mean_values = [(value/reps) for value in mean_values]\n",
    "    return mean_values"
   ]
  },
  {
   "cell_type": "markdown",
   "metadata": {},
   "source": [
    "Recursive non-linear equations describing the cytotype_dynamics model represents stochastic individual simulations"
   ]
  },
  {
   "cell_type": "code",
   "execution_count": 59,
   "metadata": {},
   "outputs": [],
   "source": [
    "def recursive_NL_equations(max_generations,v,f,d1,d2,d3):\n",
    "    # Initial conditions\n",
    "    x2 = 1  # represent frequencies of diploid\n",
    "    x3 = 0  # represent frequencies of triploid\n",
    "    x4 = 0  # represent frequencies of tetraploid\n",
    "    x2_list = [1]\n",
    "    x3_list = [0]\n",
    "    x4_list = [0]\n",
    "    for i in range(max_generations-1):\n",
    "        # update gamete proportions\n",
    "        g1 =x2 * (1-v) + d1 * x3 * f\n",
    "        g2= x2 * v + d2 * x3 * f + x4 * (1-v)\n",
    "        g3 = d3 * x3 * f\n",
    "        o = (g1 + g2 + g3)**2\n",
    "        # update genotype frequencies\n",
    "        x2 = g1**2 /o\n",
    "        x3 = 2 * g1 * g2 / o\n",
    "        x4 = (g2**2 + (2 * g1 * g3)) / o\n",
    "        x2_list.append(x2)\n",
    "        x3_list.append(x3)\n",
    "        x4_list.append(x4)\n",
    "    return max_generations,x2_list,x3_list,x4_list"
   ]
  },
  {
   "cell_type": "code",
   "execution_count": 60,
   "metadata": {},
   "outputs": [
    {
     "ename": "TypeError",
     "evalue": "can only concatenate list (not \"str\") to list",
     "output_type": "error",
     "traceback": [
      "\u001b[1;31m---------------------------------------------------------------------------\u001b[0m",
      "\u001b[1;31mTypeError\u001b[0m                                 Traceback (most recent call last)",
      "Cell \u001b[1;32mIn[60], line 40\u001b[0m\n\u001b[0;32m     37\u001b[0m     plt\u001b[38;5;241m.\u001b[39mshow()\n\u001b[0;32m     39\u001b[0m \u001b[38;5;66;03m#makeplot(cytotype_dynamics(100,2,2,300,0.01,0.3,20),recursive_NL_equations(100,0.01,0.3,0.25,0.25,0.5))\u001b[39;00m\n\u001b[1;32m---> 40\u001b[0m plot_cytotypespecific_frequencies(\u001b[43mcytotype_dynamics\u001b[49m\u001b[43m(\u001b[49m\u001b[38;5;241;43m100\u001b[39;49m\u001b[43m,\u001b[49m\u001b[38;5;241;43m2\u001b[39;49m\u001b[43m,\u001b[49m\u001b[38;5;241;43m2\u001b[39;49m\u001b[43m,\u001b[49m\u001b[38;5;241;43m100\u001b[39;49m\u001b[43m,\u001b[49m\u001b[38;5;241;43m0.01\u001b[39;49m\u001b[43m,\u001b[49m\u001b[38;5;241;43m0.3\u001b[39;49m\u001b[43m,\u001b[49m\u001b[38;5;241;43m20\u001b[39;49m\u001b[43m)\u001b[49m,recursive_NL_equations(\u001b[38;5;241m100\u001b[39m,\u001b[38;5;241m0.01\u001b[39m,\u001b[38;5;241m0.3\u001b[39m,\u001b[38;5;241m0.25\u001b[39m,\u001b[38;5;241m0.25\u001b[39m,\u001b[38;5;241m0.5\u001b[39m))\n",
      "Cell \u001b[1;32mIn[58], line 17\u001b[0m, in \u001b[0;36mcytotype_dynamics\u001b[1;34m(initial_size, ploidy_number, loci_number, max_generations, v, f, reps)\u001b[0m\n\u001b[0;32m     15\u001b[0m first \u001b[38;5;241m=\u001b[39m meiosis(pair[\u001b[38;5;241m0\u001b[39m],v,f)\n\u001b[0;32m     16\u001b[0m second \u001b[38;5;241m=\u001b[39m meiosis(pair[\u001b[38;5;241m1\u001b[39m],v,f)\n\u001b[1;32m---> 17\u001b[0m \u001b[38;5;28mprint\u001b[39m(\u001b[43mfirst\u001b[49m\u001b[43m \u001b[49m\u001b[38;5;241;43m+\u001b[39;49m\u001b[43m \u001b[49m\u001b[38;5;124;43m\"\u001b[39;49m\u001b[38;5;124;43mXXX\u001b[39;49m\u001b[38;5;124;43m\"\u001b[39;49m \u001b[38;5;241m+\u001b[39m second)\n\u001b[0;32m     18\u001b[0m \u001b[38;5;28;01mif\u001b[39;00m first \u001b[38;5;241m!=\u001b[39m [] \u001b[38;5;129;01mand\u001b[39;00m second \u001b[38;5;241m!=\u001b[39m [] \u001b[38;5;129;01mand\u001b[39;00m \u001b[38;5;28mlen\u001b[39m(first \u001b[38;5;241m+\u001b[39m second) \u001b[38;5;241m<\u001b[39m \u001b[38;5;241m5\u001b[39m:\n\u001b[0;32m     19\u001b[0m     offspring \u001b[38;5;241m=\u001b[39m first \u001b[38;5;241m+\u001b[39m second\n",
      "\u001b[1;31mTypeError\u001b[0m: can only concatenate list (not \"str\") to list"
     ]
    }
   ],
   "source": [
    "def makeplot(data,data2):\n",
    "    t1 = list(range(1,data[0]+1))\n",
    "    t2 = list(range(1,data2[0]+1))\n",
    "    plt.figure(figsize=(12, 5))\n",
    "\n",
    "    plt.subplot(1,2,1)\n",
    "    plt.plot(t1,data[1], label= \"Frequency diploid\")\n",
    "    plt.plot(t1,data[2], label= \"Frequency triploid\")\n",
    "    plt.plot(t1,data[3], label= \"Frequency tetraploid\")\n",
    "    plt.xlabel(\"Generation\")\n",
    "    plt.ylabel(\"Frequency\")\n",
    "    plt.title(\"Frequencies of di-,tri- and tetraploids per generation\")\n",
    "    plt.legend()\n",
    "\n",
    "    plt.subplot(1,2,2)\n",
    "    plt.plot(t2,data2[1], label= \"Frequency diploid\")\n",
    "    plt.plot(t2,data2[2], label= \"Frequency triploid\")\n",
    "    plt.plot(t2,data2[3], label= \"Frequency tetraploid\")\n",
    "    plt.xlabel(\"Generation\")\n",
    "    plt.ylabel(\"Frequency\")\n",
    "    plt.title(\"Frequencies of di-,tri- and tetraploids per generation\")\n",
    "    plt.legend()\n",
    "    plt.show()\n",
    "\n",
    "def plot_cytotypespecific_frequencies(data,data2):\n",
    "    t = list(range(1,data[0]+1))\n",
    "    t2 = list(range(1,data2[0]+1))\n",
    "    for rep in data[-1]:\n",
    "        plt.scatter(t, rep,color=\"red\")\n",
    "    plt.plot(t2,data[3],color=\"black\")\n",
    "    plt.grid()\n",
    "    plt.ylim(0, 0.1)\n",
    "    plt.xlabel(\"Generation\")\n",
    "    plt.ylabel(\"Frequency\")\n",
    "    plt.title(\"Frequency of tetraploids per generation\")\n",
    "    plt.legend()\n",
    "    plt.show()\n",
    "\n",
    "#makeplot(cytotype_dynamics(100,2,2,300,0.01,0.3,20),recursive_NL_equations(100,0.01,0.3,0.25,0.25,0.5))\n",
    "plot_cytotypespecific_frequencies(cytotype_dynamics(100,2,2,100,0.01,0.3,20),recursive_NL_equations(100,0.01,0.3,0.25,0.25,0.5))"
   ]
  },
  {
   "cell_type": "markdown",
   "metadata": {},
   "source": [
    "The following cells describes the process of recombination, in which recombination will be performed with a predtermined frequency. During recombination each time a chromosome is chosen from one parental individual to perform crossover with a chromosome of the other parental individual."
   ]
  },
  {
   "cell_type": "code",
   "execution_count": 374,
   "metadata": {},
   "outputs": [
    {
     "name": "stdout",
     "output_type": "stream",
     "text": [
      "[[['C', 'a'], ['A', 'A'], ['B', 'B']], [['a', 'C']]]\n"
     ]
    }
   ],
   "source": [
    "# recombination function\n",
    "import random\n",
    "\n",
    "def recombination(individual, recombination_frequency = 0.3):\n",
    "    individual = sorted(individual, key=len, reverse=True) # sort individual so first chromosome set is always longest\n",
    "    recombinated_individual = []\n",
    "    # case of 1 x 1\n",
    "    if (random.uniform(0,1) > recombination_frequency):\n",
    "        random_index = random.randint(1,len(individual[0][0])-1)\n",
    "        if len(individual[0]) == 1 and len(individual[1]) == 1:\n",
    "            chromo_1 = individual[0]\n",
    "            chromo_2 = individual[1]\n",
    "            recombinated_chromo_1 = chromo_1[0][:random_index] + chromo_2[0][random_index:]\n",
    "            recombinated_chromo_2 = chromo_2[0][:random_index] + chromo_1[0][random_index:]\n",
    "            recombinated_individual.append(recombinated_chromo_1)\n",
    "            recombinated_individual.append(recombinated_chromo_2)\n",
    "        # case of 2 x 1\n",
    "        if len(individual[0]) == 2 and len(individual[1]) == 1:\n",
    "            chromo_1 = random.choice(individual[0]) # choose 1 chromosome from first set                \n",
    "            remaining_chromo1 = [chromo for chromo in individual[0] if chromo != chromo_1][0]           \n",
    "            chromo_2 = random.choice(individual[1]) # choose 1 chromsome from other set                 \n",
    "            recombinated_chromo_1 = chromo_1[:random_index] + chromo_2[random_index:]               \n",
    "            recombinated_chromo_2 = chromo_2[:random_index] + chromo_1[random_index:]               \n",
    "            recombinated_individual.append([recombinated_chromo_1] + [remaining_chromo1])           \n",
    "            recombinated_individual.append([recombinated_chromo_2])                                   \n",
    "        # case of 2 x 2\n",
    "        if len(individual[0]) == 2 and len(individual[1]) == 2:\n",
    "            chromo_1 = random.choice(individual[0]) # choose 1 chromosome from first set                # ['A', 'A']\n",
    "            remaining_chromo1 = [chromo for chromo in individual[0] if chromo != chromo_1][0]           # ['a', 'a']\n",
    "            chromo_2 = random.choice(individual[1]) # choose 1 chromsome from other set                 # ['b', 'b']\n",
    "            remaining_chromo2 = [chromo for chromo in individual[1] if chromo != chromo_2][0]           # ['B', 'B']\n",
    "            recombinated_chromo_1 = chromo_1[:random_index] + chromo_2[random_index:]               # ['A', 'b']\n",
    "            recombinated_chromo_2 = chromo_2[:random_index] + chromo_1[random_index:]               # ['b', 'A']\n",
    "            recombinated_individual.append([recombinated_chromo_1] + [remaining_chromo1])           # [['A', 'b'],['a', 'a']]\n",
    "            recombinated_individual.append([recombinated_chromo_2] + [remaining_chromo2])           # [['b', 'A'],['B', 'B']]\n",
    "        # case of 3 x 1\n",
    "        if len(individual[0]) == 3 and len(individual[1]) == 1:\n",
    "            chromo_1 = random.choice(individual[0]) # choose 1 chromosome from first set                \n",
    "            remaining_chromo1 = [chromo for chromo in individual[0] if chromo != chromo_1]           \n",
    "            chromo_2 = random.choice(individual[1]) # choose 1 chromsome from other set                         \n",
    "            recombinated_chromo_1 = chromo_1[:random_index] + chromo_2[random_index:]               \n",
    "            recombinated_chromo_2 = chromo_2[:random_index] + chromo_1[random_index:]\n",
    "            recombinated_individual.append([recombinated_chromo_1] + remaining_chromo1)\n",
    "            recombinated_individual.append([recombinated_chromo_2])\n",
    "    else: \n",
    "        recombinated_individual = individual\n",
    "    return recombinated_individual\n"
   ]
  }
 ],
 "metadata": {
  "kernelspec": {
   "display_name": "Python 3",
   "language": "python",
   "name": "python3"
  },
  "language_info": {
   "codemirror_mode": {
    "name": "ipython",
    "version": 3
   },
   "file_extension": ".py",
   "mimetype": "text/x-python",
   "name": "python",
   "nbconvert_exporter": "python",
   "pygments_lexer": "ipython3",
   "version": "3.11.1"
  }
 },
 "nbformat": 4,
 "nbformat_minor": 2
}
