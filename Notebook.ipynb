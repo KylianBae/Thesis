{
 "cells": [
  {
   "cell_type": "markdown",
   "metadata": {},
   "source": [
    "Masterthesis"
   ]
  },
  {
   "cell_type": "code",
   "execution_count": null,
   "metadata": {},
   "outputs": [],
   "source": [
    "# load modules\n",
    "import random\n",
    "import matplotlib.pyplot as plt"
   ]
  },
  {
   "cell_type": "markdown",
   "metadata": {},
   "source": [
    "Set up an initial population of individuals with a predetermined number of chromosomes (ploidy_number) and loci per chromosomes (loci_number)"
   ]
  },
  {
   "cell_type": "code",
   "execution_count": null,
   "metadata": {},
   "outputs": [],
   "source": [
    "def initialize_population(initial_size:int,ploidy_number:int,loci_number:int):\n",
    "    \"\"\"_summary_\n",
    "    Initialize the starting population with a given number of individuals of the population (initial_size), with its ploidy level(ploidy_number)\n",
    "    and number of loci per chromosome (loci_number)\n",
    "    Args:\n",
    "        initial_size (int): Size of the initial population of individuals to start with\n",
    "        ploidy_number (int): Number of chromosome sets per individual\n",
    "        loci_number (int): Number of loci per chromosome\n",
    "\n",
    "    Returns:\n",
    "        List of lists which represents the population with its individuals based on the given parameters\n",
    "    \"\"\"\n",
    "    population = []\n",
    "    for i in range(0, initial_size):\n",
    "        individual = []\n",
    "        for i in range(0, ploidy_number):\n",
    "            chromosome_set = []\n",
    "            for i in range(0, loci_number):\n",
    "                chromosome_set.append(random.choice([0,1]))\n",
    "            individual.append(chromosome_set)\n",
    "        population.append(individual)\n",
    "    return population"
   ]
  },
  {
   "cell_type": "markdown",
   "metadata": {},
   "source": [
    "Cytoptype dynamics model that starts with an initial population of individuals that will study how the frequency of diploids, triploids and tetraploids will change after a certain number of generations. Per generation 2 by 2 individuals will be chosen to undergo meisosis and form a future generation."
   ]
  }
 ],
 "metadata": {
  "kernelspec": {
   "display_name": "Python 3",
   "language": "python",
   "name": "python3"
  },
  "language_info": {
   "name": "python",
   "version": "3.11.1"
  }
 },
 "nbformat": 4,
 "nbformat_minor": 2
}
